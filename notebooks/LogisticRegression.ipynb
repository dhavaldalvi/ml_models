{
 "cells": [
  {
   "cell_type": "code",
   "execution_count": 34,
   "metadata": {},
   "outputs": [],
   "source": [
    "import numpy as np\n",
    "from sklearn import datasets\n",
    "from sklearn.model_selection import train_test_split\n",
    "from sklearn.linear_model import LogisticRegression\n",
    "from sklearn.metrics import accuracy_score, f1_score\n",
    "import matplotlib.pyplot as plt"
   ]
  },
  {
   "cell_type": "code",
   "execution_count": 29,
   "metadata": {},
   "outputs": [],
   "source": [
    "def sigmoid(x):\n",
    "    x_clipped = np.clip(x, -500, 500)  # Clip input to avoid overflow\n",
    "    return 1 / (1 + np.exp(-x_clipped))"
   ]
  },
  {
   "cell_type": "code",
   "execution_count": 43,
   "metadata": {},
   "outputs": [],
   "source": [
    "class LogReg:\n",
    "    def __init__(self, learning_rate = 0.001, max_iter = 5000):\n",
    "        self.learning_rate = learning_rate\n",
    "        self.max_iter = max_iter\n",
    "        self.betas = None\n",
    "        \n",
    "    def fit(self, X, y):\n",
    "        n_samples, n_features = X.shape\n",
    "        X = np.append(np.ones((X.shape[0],1)), X, axis=1)\n",
    "        y = y.reshape(n_samples,1)\n",
    "        self.betas = np.zeros((n_features + 1, 1))\n",
    "\n",
    "        for i in range(self.max_iter):\n",
    "            y_linear = np.dot(X, self.betas)\n",
    "            y_pred = sigmoid(y_linear)\n",
    "            error = y - y_pred\n",
    "            d_betas = (-2/n_samples)*np.dot(X.T, error)\n",
    "            self.betas = self.betas - self.learning_rate*d_betas\n",
    "\n",
    "    def predict(self, X):\n",
    "        n_samples = X.shape[0]\n",
    "        X = np.append(np.ones((X.shape[0],1)), X, axis=1)\n",
    "        y_pred_linear = np.dot(X, self.betas).reshape(n_samples,)\n",
    "        y_pred = np.array([1 if y > 0.5 else 0 for y in y_pred_linear])\n",
    "        return y_pred"
   ]
  },
  {
   "cell_type": "code",
   "execution_count": 44,
   "metadata": {},
   "outputs": [],
   "source": [
    "breast_cancer = datasets.load_breast_cancer()\n",
    "X, y = breast_cancer.data, breast_cancer.target\n",
    "X_train, X_test, y_train, y_test = train_test_split(X, y, test_size=0.2, random_state=162)"
   ]
  },
  {
   "cell_type": "code",
   "execution_count": 45,
   "metadata": {},
   "outputs": [
    {
     "name": "stdout",
     "output_type": "stream",
     "text": [
      "Accuracy of custum logistic regression 0.8947368421052632\n",
      "F1 score of custum logistic regression 0.9117647058823529\n",
      "Accuracy of sk learn's logistic regression 0.9385964912280702\n",
      "F1 score of custum logistic regression 0.948905109489051\n"
     ]
    }
   ],
   "source": [
    "log = LogReg(learning_rate=0.01)\n",
    "log.fit(X_train, y_train)\n",
    "y_pred = log.predict(X_test)\n",
    "print(\"Accuracy of custum logistic regression\", accuracy_score(y_test, y_pred))\n",
    "print(\"F1 score of custum logistic regression\", f1_score(y_test, y_pred))\n",
    "\n",
    "log_sk = LogisticRegression(max_iter=5000)\n",
    "log_sk.fit(X_train, y_train)\n",
    "y_pred_sk = log_sk.predict(X_test)\n",
    "print(\"Accuracy of sk learn's logistic regression\", accuracy_score(y_test, y_pred_sk))\n",
    "print(\"F1 score of custum logistic regression\", f1_score(y_test, y_pred_sk))\n"
   ]
  },
  {
   "cell_type": "code",
   "execution_count": null,
   "metadata": {},
   "outputs": [],
   "source": []
  }
 ],
 "metadata": {
  "kernelspec": {
   "display_name": "DS",
   "language": "python",
   "name": "python3"
  },
  "language_info": {
   "codemirror_mode": {
    "name": "ipython",
    "version": 3
   },
   "file_extension": ".py",
   "mimetype": "text/x-python",
   "name": "python",
   "nbconvert_exporter": "python",
   "pygments_lexer": "ipython3",
   "version": "3.12.8"
  }
 },
 "nbformat": 4,
 "nbformat_minor": 2
}
