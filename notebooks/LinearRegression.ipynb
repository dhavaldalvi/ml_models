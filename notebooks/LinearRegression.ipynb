{
 "cells": [
  {
   "cell_type": "markdown",
   "metadata": {},
   "source": [
    "# Linear Regression\n",
    "\n",
    "$$\n",
    "\\hat{y}_{i} = \\beta_{0} + \\beta_{1}X_{i,1} + \\beta_{2}X_{i,2} \\dots \\beta_{p-1}X_{i,p-1} \\quad i = 1, 2, \\dots n\n",
    "$$\n",
    "\n",
    "where $n$ is the sample size (rows) and $p-1$ is the number of features (columns). In matrix form\n",
    "$$\n",
    "\\begin{bmatrix}\n",
    "    y_{1}\\\\\n",
    "    y_{2}\\\\\n",
    "    \\vdots\\\\\n",
    "    y_{n}\n",
    "   \\end{bmatrix}_{n \\times 1} = \\begin{bmatrix}\n",
    "                                    1 & X_{1, 1} & X_{1, 2} & \\dots & X_{1, p-1}\\\\\n",
    "                                    1 & X_{2, 1} & X_{2, 2} & \\dots & X_{2, p-1}\\\\\n",
    "                                    \\vdots & \\vdots & \\vdots & \\vdots & \\vdots\\\\\n",
    "                                    1 & X_{n, 1} & X_{n, 2} & \\dots & X_{n, p-1} \n",
    "                                \\end{bmatrix}_{n \\times p} \\begin{bmatrix}\n",
    "                                                            \\beta_{0}\\\\\n",
    "                                                            \\beta_{1}\\\\\n",
    "                                                            \\vdots\\\\\n",
    "                                                            \\beta_{p-1}\n",
    "                                                            \\end{bmatrix}_{p \\times 1}\n",
    "$$\n",
    "i.e., \n",
    "$$\n",
    "\\mathbf{y} = \\mathbf{X\\beta}\n",
    "$$\n",
    "By choosing Mean Squared Error as cost function,\n",
    "$$\n",
    "\\begin{align*} J(\\beta_{0}, \\beta_{1} \\dots \\beta_{p-1}) &= \\dfrac{1}{N}\\sum_{i=1}^{n} (y_{i} - \\hat{y}_{i})^{2}\\\\\n",
    "&= \\dfrac{1}{N}\\sum_{i=1}^{n} (y_{i} - (\\beta_{0} + \\beta_{1}X_{i,1} + \\beta_{2}X_{i,2} \\dots \\beta_{p-1}X_{i,p-1}))^{2} \\end{align*}\n",
    "$$\n",
    "To minimise $J(\\beta_{0}, \\beta_{1} \\dots \\beta_{p-1})$ we use gradient descent method. Generally if we want to minimise vector valued function $f(\\mathbf{x})$ we calculate iteratively the value of $\\mathbf{x}$ by\n",
    "$$\n",
    "\\mathbf{x}_{k+1} = \\mathbf{x}_{k} - \\mathbf{\\nabla}f(\\mathbf{x})\n",
    "$$\n",
    "Similary, to minimise $J(\\beta_{0}, \\beta_{1} \\dots \\beta_{p-1})$ we have to calculate\n",
    "$$\n",
    "\\mathbf{\\beta}_{k+1} = \\mathbf{\\beta}_{k} - \\alpha\\mathbf{\\nabla}J(\\mathbf{\\mathbf{\\beta}})\n",
    "$$\n",
    "where $\\alpha$ is the learning rate or step size and\n",
    "$$\n",
    "\\beta = \\begin{bmatrix}\n",
    "            \\beta_{0}\\\\\n",
    "            \\beta_{1}\\\\\n",
    "            \\vdots\\\\\n",
    "            \\beta_{p-1}\n",
    "            \\end{bmatrix}_{p \\times 1} \\quad\\quad\\quad\n",
    "            \\mathbf{\\nabla}J(\\mathbf{\\mathbf{\\beta}}) = \\displaystyle\\begin{bmatrix}\n",
    "            \\dfrac{\\partial J}{\\partial \\beta_{0}}\\\\\n",
    "            \\dfrac{\\partial J}{\\partial \\beta_{1}}\\\\\n",
    "            \\vdots \\\\\n",
    "            \\dfrac{\\partial J}{\\partial \\beta_{p-1}} \n",
    "            \\end{bmatrix}_{p \\times 1}\n",
    "$$\n",
    "From\n",
    "$$\n",
    "J(\\beta_{0}, \\beta_{1} \\dots \\beta_{p-1}) = \\dfrac{1}{N}\\sum_{i=1}^{n} (y_{i} - (\\beta_{0} + \\beta_{1}X_{i,1} + \\beta_{2}X_{i,2} \\dots \\beta_{p-1}X_{i,p-1}))^{2}\n",
    "$$\n",
    "for $\\mathbf{\\nabla}J(\\mathbf{\\mathbf{\\beta}})$ we have\n",
    "$$\n",
    "\\begin{align*}\n",
    "\\dfrac{\\partial J}{\\partial \\beta_{0}} &= \\dfrac{1}{N}\\sum_{i=1}^{n} (y_{i} - (\\beta_{0} + \\beta_{1}X_{i,1} + \\beta_{2}X_{i,2} \\dots \\beta_{p-1}X_{i,p-1}))(-1)\\\\\n",
    "&= \\dfrac{-1}{N}\\sum_{i=1}^{n} 2(y_{i} - \\hat{y}_{i})\\\\\n",
    "\\dfrac{\\partial J}{\\partial \\beta_{1}} &= \\dfrac{1}{N}\\sum_{i=1}^{n} (y_{i} - (\\beta_{0} + \\beta_{1}X_{i,1} + \\beta_{2}X_{i,2} \\dots \\beta_{p-1}X_{i,p-1}))(-1)\\\\\n",
    "&= \\dfrac{-1}{N}\\sum_{i=1}^{n} 2(y_{i} - \\hat{y}_{i})(X_{i,1})\\\\\n",
    "&\\vdots\\\\\n",
    "\\dfrac{\\partial J}{\\partial \\beta_{p-1}} &= \\dfrac{1}{N}\\sum_{i=1}^{n} (y_{i} - (\\beta_{0} + \\beta_{1}X_{i,1} + \\beta_{2}X_{i,2} \\dots \\beta_{p-1}X_{i,p-1}))(-1)\\\\\n",
    "&= \\dfrac{-1}{N}\\sum_{i=1}^{n} 2(y_{i} - \\hat{y}_{i})(X_{i,p-1})\n",
    "\\end{align*}\n",
    "$$\n",
    "From matrix form of\n",
    "$$\n",
    "\\begin{align*}\n",
    "\\mathbf{J}_{n \\times 1} &= (\\mathbf{y}_{n \\times 1} - \\hat{\\mathbf{y}}_{n \\times 1})^{2}\\\\\n",
    "&= (\\mathbf{y} - (\\mathbf{X \\beta }))_{n \\times 1}^{2}\n",
    "\\end{align*}\n",
    "$$ \n",
    "and for $\\mathbf{\\nabla}J(\\mathbf{\\mathbf{\\beta}})$\n",
    "$$\n",
    "\\begin{align*}\n",
    "\\mathbf{\\nabla}J(\\mathbf{\\mathbf{\\beta}}) &= \\left[\\dfrac{\\partial J}{\\partial \\beta}\\right]_{p \\times 1}\\\\\n",
    "&= (\\mathbf{y}_{n \\times 1} - (\\mathbf{X \\beta })_{n \\times 1})(-\\mathbf{X}_{n \\times p})\\\\\n",
    "&=  -\\mathbf{X}^{T}_{p \\times n}(\\mathbf{y} - (\\mathbf{X \\beta }))_{n \\times 1}\n",
    "\\end{align*}\n",
    "$$\n",
    "and finally solve for $\\beta$'s\n",
    "$$\n",
    "(\\mathbf{\\beta}_{k+1})_{p \\times 1} = (\\mathbf{\\beta}_{k})_{p \\times 1} + \\alpha \\mathbf{X}^{T}_{p \\times n}(\\mathbf{y} - (\\mathbf{X \\beta }))_{n \\times 1}\n",
    "$$\n"
   ]
  },
  {
   "cell_type": "code",
   "execution_count": 64,
   "metadata": {},
   "outputs": [],
   "source": [
    "import numpy as np"
   ]
  },
  {
   "cell_type": "code",
   "execution_count": 192,
   "metadata": {},
   "outputs": [],
   "source": [
    "class LinReg:\n",
    "    def __init__(self, learning_rate = 0.001, max_iter = 10000):\n",
    "        self.learning_rate = learning_rate\n",
    "        self.max_iter = max_iter\n",
    "        self.betas = None\n",
    "        \n",
    "    def fit(self, X, y):\n",
    "        n_samples, n_features = X.shape\n",
    "        X = np.append(np.ones((X.shape[0],1)), X, axis=1)\n",
    "        y = y.reshape(n_samples,1)\n",
    "        self.betas = np.zeros((n_features + 1, 1))\n",
    "\n",
    "        for i in range(self.max_iter):\n",
    "            y_pred = np.dot(X, self.betas)\n",
    "            error = y - y_pred\n",
    "            d_betas = (-2/n_samples)*np.dot(X.T, error)\n",
    "            self.betas = self.betas - self.learning_rate*d_betas\n",
    "\n",
    "    def predict(self, X):\n",
    "        n_samples = X.shape[0]\n",
    "        X = np.append(np.ones((X.shape[0],1)), X, axis=1)\n",
    "        y_pred = np.dot(X, self.betas).reshape(n_samples,)\n",
    "        return y_pred"
   ]
  },
  {
   "cell_type": "code",
   "execution_count": 183,
   "metadata": {},
   "outputs": [],
   "source": [
    "from sklearn import datasets\n",
    "from sklearn.model_selection import train_test_split\n",
    "from sklearn.metrics import r2_score\n",
    "import matplotlib.pyplot as plt\n",
    "from sklearn.linear_model import LinearRegression"
   ]
  },
  {
   "cell_type": "code",
   "execution_count": 206,
   "metadata": {},
   "outputs": [],
   "source": [
    "X, y = datasets.make_regression(n_samples=100, n_features=1, noise=20, random_state=4)\n",
    "X_train, X_test, y_train, y_test = train_test_split(X, y, test_size=0.2, random_state=32)"
   ]
  },
  {
   "cell_type": "code",
   "execution_count": 207,
   "metadata": {},
   "outputs": [
    {
     "name": "stdout",
     "output_type": "stream",
     "text": [
      "R2 for sklearn linear regression 0.9298359010944421\n",
      "R2 for custom linear regression 0.9298359005333331\n"
     ]
    }
   ],
   "source": [
    "sk_reg = LinearRegression()\n",
    "sk_reg.fit(X_train, y_train)\n",
    "sk_y_pred= sk_reg.predict(X_test)\n",
    "print(\"R2 for sklearn linear regression\", r2_score(y_test, sk_y_pred))\n",
    "\n",
    "reg = LinReg()\n",
    "reg.fit(X_train, y_train)\n",
    "y_pred = reg.predict(X_test)\n",
    "print(\"R2 for custom linear regression\", r2_score(y_test, y_pred))\n",
    "#x = np.linspace(-2,2.5,100)\n",
    "#y = x*reg.betas[1] + reg.betas[0]\n",
    "#plt.scatter(X_test,y_test)\n",
    "#plt.plot(x, y, c='r')\n"
   ]
  },
  {
   "cell_type": "code",
   "execution_count": 233,
   "metadata": {},
   "outputs": [],
   "source": [
    "X, y = datasets.make_regression(n_samples=1000, n_features=1, noise=20, random_state=4)\n",
    "X_train, X_test, y_train, y_test = train_test_split(X, y, test_size=0.2, random_state=32)"
   ]
  },
  {
   "cell_type": "code",
   "execution_count": 235,
   "metadata": {},
   "outputs": [
    {
     "name": "stdout",
     "output_type": "stream",
     "text": [
      "R2 for sklearn linear regression 0.713095604334703\n",
      "R2 for custom linear regression 0.7130956027858553\n"
     ]
    },
    {
     "data": {
      "text/plain": [
       "[<matplotlib.lines.Line2D at 0x7feef3993b00>]"
      ]
     },
     "execution_count": 235,
     "metadata": {},
     "output_type": "execute_result"
    },
    {
     "data": {
      "image/png": "[encoded data removed]",
      "text/plain": [
       "<Figure size 640x480 with 1 Axes>"
      ]
     },
     "metadata": {},
     "output_type": "display_data"
    }
   ],
   "source": [
    "sk_reg = LinearRegression()\n",
    "sk_reg.fit(X_train, y_train)\n",
    "sk_y_pred= sk_reg.predict(X_test)\n",
    "print(\"R2 for sklearn linear regression\", r2_score(y_test, sk_y_pred))\n",
    "\n",
    "reg = LinReg()\n",
    "reg.fit(X_train, y_train)\n",
    "y_pred = reg.predict(X_test)\n",
    "print(\"R2 for custom linear regression\", r2_score(y_test, y_pred))\n",
    "x = np.linspace(X_test.min(),X_test.max(),100)\n",
    "y = x*reg.betas[1] + reg.betas[0]\n",
    "plt.scatter(X_test,y_test)\n",
    "plt.plot(x, y, c='r')"
   ]
  },
  {
   "cell_type": "code",
   "execution_count": null,
   "metadata": {},
   "outputs": [],
   "source": []
  }
 ],
 "metadata": {
  "kernelspec": {
   "display_name": "DS",
   "language": "python",
   "name": "python3"
  },
  "language_info": {
   "codemirror_mode": {
    "name": "ipython",
    "version": 3
   },
   "file_extension": ".py",
   "mimetype": "text/x-python",
   "name": "python",
   "nbconvert_exporter": "python",
   "pygments_lexer": "ipython3",
   "version": "3.12.8"
  }
 },
 "nbformat": 4,
 "nbformat_minor": 2
}
